{
 "cells": [
  {
   "cell_type": "code",
   "execution_count": 1,
   "id": "db3a6168-e514-4461-9ee7-6efeb6d3b85b",
   "metadata": {},
   "outputs": [
    {
     "name": "stdout",
     "output_type": "stream",
     "text": [
      "C:\\Users\\Brown Research\\Documents\\vr-exoskeleton\n"
     ]
    }
   ],
   "source": [
    "%cd .."
   ]
  },
  {
   "cell_type": "markdown",
   "id": "c1f373ce-f4b4-4b6e-8ed7-2259bb558847",
   "metadata": {},
   "source": [
    "# import\n",
    "\n",
    "Check that the exported ONNX model and weights have been exported properly."
   ]
  },
  {
   "cell_type": "code",
   "execution_count": 45,
   "id": "1eb222dc-fa36-40d5-8592-e17ec71ce9a1",
   "metadata": {},
   "outputs": [],
   "source": [
    "import os\n",
    "\n",
    "import numpy as np\n",
    "import onnx\n",
    "import onnxruntime\n",
    "import torch\n",
    "\n",
    "from vr_exoskeleton import gaze_modeling"
   ]
  },
  {
   "cell_type": "code",
   "execution_count": 46,
   "id": "d61d9b91-869e-4967-a6ef-4ec68bf1ab2f",
   "metadata": {},
   "outputs": [],
   "source": [
    "stamp = '1726587404_lstm_vr-ds2-delta-h64_s16'\n",
    "path_stamp = os.path.join('output', stamp)"
   ]
  },
  {
   "cell_type": "code",
   "execution_count": 47,
   "id": "fe55a22b-3f64-4389-bdbe-cfb47f2597cd",
   "metadata": {},
   "outputs": [],
   "source": [
    "path_onnx = os.path.join(path_stamp, 'val_best.onnx')\n",
    "model_onnx = onnx.load(path_onnx)\n",
    "onnx.checker.check_model(model_onnx)"
   ]
  },
  {
   "cell_type": "code",
   "execution_count": 48,
   "id": "cc5dc469-7cef-477d-b1ef-01cb7051f09a",
   "metadata": {},
   "outputs": [
    {
     "name": "stdout",
     "output_type": "stream",
     "text": [
      "['input', 'h0', 'c0']\n"
     ]
    },
    {
     "data": {
      "text/plain": [
       "[[1, 1, 9], [1, 1, 64], [1, 1, 64]]"
      ]
     },
     "execution_count": 48,
     "metadata": {},
     "output_type": "execute_result"
    }
   ],
   "source": [
    "# https://github.com/onnx/onnx-docker/blob/master/onnx-ecosystem/inference_demos/resnet50_modelzoo_onnxruntime_inference.ipynb\n",
    "session = onnxruntime.InferenceSession(path_onnx)\n",
    "inputs = session.get_inputs()\n",
    "print([inp.name for inp in inputs])\n",
    "shapes = [inp.shape for inp in inputs]\n",
    "shapes"
   ]
  },
  {
   "cell_type": "code",
   "execution_count": 49,
   "id": "33cdb75e-ac70-4f27-8988-cd7cf61af00b",
   "metadata": {},
   "outputs": [
    {
     "data": {
      "text/plain": [
       "{'input': array([[[ 0.046, -0.051,  0.998,  0.032, -0.051,  0.998,  0.   ,  0.   ,\n",
       "           1.   ]]], dtype=float32),\n",
       " 'h0': array([[[0., 0., 0., 0., 0., 0., 0., 0., 0., 0., 0., 0., 0., 0., 0., 0.,\n",
       "          0., 0., 0., 0., 0., 0., 0., 0., 0., 0., 0., 0., 0., 0., 0., 0.,\n",
       "          0., 0., 0., 0., 0., 0., 0., 0., 0., 0., 0., 0., 0., 0., 0., 0.,\n",
       "          0., 0., 0., 0., 0., 0., 0., 0., 0., 0., 0., 0., 0., 0., 0., 0.]]],\n",
       "       dtype=float32),\n",
       " 'c0': array([[[0., 0., 0., 0., 0., 0., 0., 0., 0., 0., 0., 0., 0., 0., 0., 0.,\n",
       "          0., 0., 0., 0., 0., 0., 0., 0., 0., 0., 0., 0., 0., 0., 0., 0.,\n",
       "          0., 0., 0., 0., 0., 0., 0., 0., 0., 0., 0., 0., 0., 0., 0., 0.,\n",
       "          0., 0., 0., 0., 0., 0., 0., 0., 0., 0., 0., 0., 0., 0., 0., 0.]]],\n",
       "       dtype=float32)}"
      ]
     },
     "execution_count": 49,
     "metadata": {},
     "output_type": "execute_result"
    }
   ],
   "source": [
    "x = {\n",
    "    inputs[0].name: np.array([[[0.046, -0.051, 0.998, 0.032, -0.051, 0.998, 0, 0, 1]]], dtype=np.float32),\n",
    "    inputs[1].name: np.zeros(inputs[1].shape, dtype=np.float32),\n",
    "    inputs[2].name: np.zeros(inputs[2].shape, dtype=np.float32),\n",
    "}\n",
    "x"
   ]
  },
  {
   "cell_type": "code",
   "execution_count": 50,
   "id": "e32c3148-7307-4a77-b13a-bd1b56b52d72",
   "metadata": {},
   "outputs": [
    {
     "data": {
      "text/plain": [
       "[array([[[-0.00661951,  0.00647806,  0.22395736]]], dtype=float32),\n",
       " array([[[ 0.28214827, -0.30408978,  0.07103308,  0.0605324 ,\n",
       "           0.07243754,  0.02274194,  0.12180427,  0.09621958,\n",
       "           0.12453493, -0.32164127,  0.03300498,  0.3157115 ,\n",
       "          -0.29945344,  0.06810333, -0.04092194,  0.08568035,\n",
       "           0.12185661,  0.02083877, -0.22673914, -0.12396441,\n",
       "           0.17571536,  0.32476273,  0.2185961 ,  0.08088748,\n",
       "           0.31141096, -0.15523273,  0.39072794,  0.2999431 ,\n",
       "          -0.06120691,  0.12097517,  0.05638696,  0.2652217 ,\n",
       "          -0.1060916 , -0.08794464,  0.0791367 , -0.29475492,\n",
       "           0.12426026,  0.01968273, -0.17443576,  0.1074459 ,\n",
       "           0.09905869,  0.11251564, -0.25023362, -0.04954546,\n",
       "           0.16618916,  0.0163953 ,  0.00244825, -0.35130298,\n",
       "           0.34308216,  0.28511602,  0.10213096, -0.08076309,\n",
       "           0.01526525,  0.02226372, -0.13237923,  0.01449596,\n",
       "          -0.19927077,  0.15095067,  0.23942937, -0.27816576,\n",
       "           0.16504858,  0.00543428, -0.2488535 ,  0.0008403 ]]],\n",
       "       dtype=float32),\n",
       " array([[[ 0.56846374, -0.4355431 ,  0.18568692,  0.12009482,\n",
       "           0.11885192,  0.05391215,  0.32376105,  0.17534727,\n",
       "           0.22247462, -0.5320877 ,  0.11478762,  0.5460188 ,\n",
       "          -0.4575807 ,  0.14475729, -0.0703368 ,  0.3550835 ,\n",
       "           0.28383747,  0.05035174, -0.36251333, -0.22433203,\n",
       "           0.3170972 ,  0.5085977 ,  0.3106027 ,  0.11916556,\n",
       "           0.4960121 , -0.26200917,  0.61936945,  0.50747985,\n",
       "          -0.0922738 ,  0.4218355 ,  0.10740163,  0.4130172 ,\n",
       "          -0.31980664, -0.14735243,  0.17721857, -0.5244104 ,\n",
       "           0.19878405,  0.0339858 , -0.34435347,  0.19107294,\n",
       "           0.21309283,  0.27619806, -0.4266177 , -0.10257995,\n",
       "           0.3621947 ,  0.0208498 ,  0.00509445, -0.47994992,\n",
       "           0.6436994 ,  0.48576623,  0.2089726 , -0.19119194,\n",
       "           0.02726754,  0.04014261, -0.23619704,  0.02231962,\n",
       "          -0.3257846 ,  0.35129514,  0.4936221 , -0.39791143,\n",
       "           0.30645004,  0.00651579, -0.41830334,  0.00125534]]],\n",
       "       dtype=float32)]"
      ]
     },
     "execution_count": 50,
     "metadata": {},
     "output_type": "execute_result"
    }
   ],
   "source": [
    "y_onnx = session.run([], x)\n",
    "y_onnx"
   ]
  },
  {
   "cell_type": "code",
   "execution_count": 43,
   "id": "3405e821-d20c-4c20-9135-d427fc0e8188",
   "metadata": {},
   "outputs": [
    {
     "data": {
      "text/plain": [
       "[array([[[-0.00560898,  0.06662751,  0.48892128]]], dtype=float32),\n",
       " array([[[-0.08151086, -0.00668897,  0.01659477, -0.04192491,\n",
       "           0.08786531,  0.02747281,  0.06131611, -0.11329027,\n",
       "          -0.1405544 , -0.06886122,  0.02409362, -0.07048728,\n",
       "           0.00369192,  0.11004268, -0.0383971 ,  0.14117606,\n",
       "          -0.09314879, -0.11525793,  0.02407523, -0.05248694,\n",
       "          -0.07082793, -0.05920886, -0.13047113, -0.1154762 ,\n",
       "           0.1264657 ,  0.03752483, -0.04339955,  0.02098732,\n",
       "          -0.02307992,  0.09405048,  0.0750456 ,  0.10353816,\n",
       "           0.01974339, -0.02559475, -0.02636508, -0.10609972,\n",
       "           0.0333731 ,  0.00956159,  0.09917797,  0.05490723,\n",
       "          -0.03124635, -0.05806206,  0.09710053,  0.07864764,\n",
       "           0.11812741, -0.10467769, -0.08562802,  0.09803662,\n",
       "           0.0765564 , -0.10080887, -0.08384477, -0.18505272,\n",
       "           0.07662403, -0.0219242 ,  0.1006683 , -0.03550651,\n",
       "          -0.07214425,  0.08486216, -0.10255342,  0.04277418,\n",
       "          -0.06061863,  0.15657593, -0.07847098, -0.03580561]]],\n",
       "       dtype=float32),\n",
       " array([[[-0.15685879, -0.01099981,  0.03886128, -0.09097338,\n",
       "           0.13514112,  0.04270666,  0.12056839, -0.2086153 ,\n",
       "          -0.24496612, -0.1094535 ,  0.04572255, -0.12288597,\n",
       "           0.00690935,  0.20380715, -0.08032481,  0.2332977 ,\n",
       "          -0.17367014, -0.20473713,  0.03875546, -0.0884156 ,\n",
       "          -0.1138633 , -0.11475356, -0.25590163, -0.18672231,\n",
       "           0.1941656 ,  0.07354081, -0.0785701 ,  0.04411463,\n",
       "          -0.03966757,  0.17843044,  0.14369461,  0.18727136,\n",
       "           0.03533563, -0.04987053, -0.05115526, -0.17339796,\n",
       "           0.06697035,  0.01952356,  0.18492404,  0.11045452,\n",
       "          -0.06129017, -0.11163721,  0.1800869 ,  0.14396997,\n",
       "           0.22917634, -0.16637345, -0.18305933,  0.19634648,\n",
       "           0.13904826, -0.19703609, -0.16022511, -0.22942457,\n",
       "           0.16321567, -0.04044186,  0.21888207, -0.05620125,\n",
       "          -0.13048817,  0.14375935, -0.19147679,  0.08273467,\n",
       "          -0.10270966,  0.2877135 , -0.14932738, -0.06898335]]],\n",
       "       dtype=float32)]"
      ]
     },
     "execution_count": 43,
     "metadata": {},
     "output_type": "execute_result"
    }
   ],
   "source": [
    "weights = torch.load(os.path.join(path_stamp, 'val_best.pth'), weights_only=True)\n",
    "model = gaze_modeling.GazeLSTM(9, [64])\n",
    "model.load_state_dict(weights)\n",
    "y = model(*[torch.tensor(a) for a in x.values()])\n",
    "y = [a.detach().numpy() for a in y]\n",
    "y"
   ]
  },
  {
   "cell_type": "code",
   "execution_count": 44,
   "id": "0a56cab1-ade9-4271-aa49-d06472fe80d3",
   "metadata": {},
   "outputs": [
    {
     "data": {
      "text/plain": [
       "[True, True, True]"
      ]
     },
     "execution_count": 44,
     "metadata": {},
     "output_type": "execute_result"
    }
   ],
   "source": [
    "[np.allclose(a_onnx, a) for a_onnx, a in zip(y_onnx, y)]"
   ]
  },
  {
   "cell_type": "code",
   "execution_count": null,
   "id": "da9501a9-0be7-4968-a305-e90b0068adcb",
   "metadata": {},
   "outputs": [],
   "source": []
  }
 ],
 "metadata": {
  "kernelspec": {
   "display_name": "vr-exoskeleton",
   "language": "python",
   "name": "vr-exoskeleton"
  },
  "language_info": {
   "codemirror_mode": {
    "name": "ipython",
    "version": 3
   },
   "file_extension": ".py",
   "mimetype": "text/x-python",
   "name": "python",
   "nbconvert_exporter": "python",
   "pygments_lexer": "ipython3",
   "version": "3.12.8"
  }
 },
 "nbformat": 4,
 "nbformat_minor": 5
}
